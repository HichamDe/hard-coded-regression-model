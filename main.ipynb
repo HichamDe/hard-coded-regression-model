{
 "cells": [
  {
   "cell_type": "markdown",
   "id": "dcbe7c4c",
   "metadata": {},
   "source": [
    "# Code Linear Regression Model from Scratch\n",
    "## Use Y= P0 + P1 x X1 + P2 x X2 + ... + PN x XN"
   ]
  },
  {
   "cell_type": "code",
   "execution_count": null,
   "id": "0e6d8ff1",
   "metadata": {},
   "outputs": [
    {
     "data": {
      "text/html": [
       "<div>\n",
       "<style scoped>\n",
       "    .dataframe tbody tr th:only-of-type {\n",
       "        vertical-align: middle;\n",
       "    }\n",
       "\n",
       "    .dataframe tbody tr th {\n",
       "        vertical-align: top;\n",
       "    }\n",
       "\n",
       "    .dataframe thead th {\n",
       "        text-align: right;\n",
       "    }\n",
       "</style>\n",
       "<table border=\"1\" class=\"dataframe\">\n",
       "  <thead>\n",
       "    <tr style=\"text-align: right;\">\n",
       "      <th></th>\n",
       "      <th>math_score</th>\n",
       "      <th>physics_score</th>\n",
       "      <th>frensh_score</th>\n",
       "      <th>national</th>\n",
       "    </tr>\n",
       "  </thead>\n",
       "  <tbody>\n",
       "    <tr>\n",
       "      <th>0</th>\n",
       "      <td>12</td>\n",
       "      <td>16</td>\n",
       "      <td>10</td>\n",
       "      <td>15</td>\n",
       "    </tr>\n",
       "    <tr>\n",
       "      <th>1</th>\n",
       "      <td>14</td>\n",
       "      <td>15</td>\n",
       "      <td>12</td>\n",
       "      <td>16</td>\n",
       "    </tr>\n",
       "    <tr>\n",
       "      <th>2</th>\n",
       "      <td>18</td>\n",
       "      <td>17</td>\n",
       "      <td>14</td>\n",
       "      <td>19</td>\n",
       "    </tr>\n",
       "    <tr>\n",
       "      <th>3</th>\n",
       "      <td>9</td>\n",
       "      <td>10</td>\n",
       "      <td>8</td>\n",
       "      <td>12</td>\n",
       "    </tr>\n",
       "    <tr>\n",
       "      <th>4</th>\n",
       "      <td>13</td>\n",
       "      <td>14</td>\n",
       "      <td>11</td>\n",
       "      <td>14</td>\n",
       "    </tr>\n",
       "    <tr>\n",
       "      <th>5</th>\n",
       "      <td>16</td>\n",
       "      <td>18</td>\n",
       "      <td>15</td>\n",
       "      <td>17</td>\n",
       "    </tr>\n",
       "    <tr>\n",
       "      <th>6</th>\n",
       "      <td>11</td>\n",
       "      <td>13</td>\n",
       "      <td>9</td>\n",
       "      <td>13</td>\n",
       "    </tr>\n",
       "    <tr>\n",
       "      <th>7</th>\n",
       "      <td>15</td>\n",
       "      <td>14</td>\n",
       "      <td>13</td>\n",
       "      <td>15</td>\n",
       "    </tr>\n",
       "    <tr>\n",
       "      <th>8</th>\n",
       "      <td>10</td>\n",
       "      <td>11</td>\n",
       "      <td>7</td>\n",
       "      <td>12</td>\n",
       "    </tr>\n",
       "    <tr>\n",
       "      <th>9</th>\n",
       "      <td>17</td>\n",
       "      <td>19</td>\n",
       "      <td>16</td>\n",
       "      <td>18</td>\n",
       "    </tr>\n",
       "  </tbody>\n",
       "</table>\n",
       "</div>"
      ],
      "text/plain": [
       "   math_score  physics_score  frensh_score  national\n",
       "0          12             16            10        15\n",
       "1          14             15            12        16\n",
       "2          18             17            14        19\n",
       "3           9             10             8        12\n",
       "4          13             14            11        14\n",
       "5          16             18            15        17\n",
       "6          11             13             9        13\n",
       "7          15             14            13        15\n",
       "8          10             11             7        12\n",
       "9          17             19            16        18"
      ]
     },
     "execution_count": 157,
     "metadata": {},
     "output_type": "execute_result"
    }
   ],
   "source": [
    "import numpy as np\n",
    "import pandas as pd\n",
    "\n",
    "#* Note that:\n",
    "# Y is the target\n",
    "# P is parameter\n",
    "# X is a feature\n",
    "\n",
    "df = pd.read_csv(\"./dataset.csv\")\n",
    "df"
   ]
  },
  {
   "cell_type": "code",
   "execution_count": 158,
   "id": "f1bf6445",
   "metadata": {},
   "outputs": [],
   "source": [
    "class RegressionModel:\n",
    "    def __init__(self):\n",
    "        self.P_optimal = None\n",
    "\n",
    "    def fit(self,features,target):\n",
    "        # calculate optimal params vector\n",
    "        # P = (XT . X )**(-1) . XT.Y\n",
    "\n",
    "        P_optimal = np.dot(np.linalg.inv(np.dot(np.transpose(features.to_numpy()),features.to_numpy())) ,np.dot(np.transpose(features.to_numpy()),target.to_numpy()))\n",
    "        self.P_optimal = P_optimal\n",
    "\n",
    "    def predict(self,features):\n",
    "        # calculate Y target\n",
    "        # P . X\n",
    "        return round(np.clip(np.dot(self.P_optimal,np.array(features)),0,20),2)\n"
   ]
  },
  {
   "cell_type": "code",
   "execution_count": 159,
   "id": "3c9f2759",
   "metadata": {},
   "outputs": [
    {
     "name": "stdout",
     "output_type": "stream",
     "text": [
      "You will score 15.89 in the national\n"
     ]
    }
   ],
   "source": [
    "# Data sepration\n",
    "target = df[\"national\"]\n",
    "features = df.loc[: ,df.columns != \"national\"]\n",
    "\n",
    "model = RegressionModel()\n",
    "model.fit(features,target)\n",
    "\n",
    "# (math,physic,frensh)\n",
    "res = model.predict([10,11,0])\n",
    "\n",
    "print(f\"You will score {res} in the national\")\n"
   ]
  }
 ],
 "metadata": {
  "kernelspec": {
   "display_name": "base",
   "language": "python",
   "name": "python3"
  },
  "language_info": {
   "codemirror_mode": {
    "name": "ipython",
    "version": 3
   },
   "file_extension": ".py",
   "mimetype": "text/x-python",
   "name": "python",
   "nbconvert_exporter": "python",
   "pygments_lexer": "ipython3",
   "version": "3.12.7"
  }
 },
 "nbformat": 4,
 "nbformat_minor": 5
}
